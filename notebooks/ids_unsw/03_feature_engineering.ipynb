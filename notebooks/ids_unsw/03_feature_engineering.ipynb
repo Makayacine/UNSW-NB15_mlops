{
 "cells": [
  {
   "cell_type": "code",
   "execution_count": 4,
   "id": "c972f2ff-1486-4ab4-b7a3-3835b3ac74cb",
   "metadata": {},
   "outputs": [
    {
     "name": "stdout",
     "output_type": "stream",
     "text": [
      "Original Train shape: (175341, 36)\n",
      "Train shape after removing duplicates: (96822, 36)\n",
      "\n",
      "Original Test shape: (82332, 36)\n"
     ]
    }
   ],
   "source": [
    "\n",
    "import pandas as pd\n",
    "import numpy as np\n",
    "\n",
    "# Load parquet files\n",
    "train_df = pd.read_parquet(\"UNSW_NB15_training-set.parquet\")\n",
    "test_df  = pd.read_parquet(\"UNSW_NB15_testing-set.parquet\")\n",
    "\n",
    "# --- ADD THIS CODE TO REMOVE DUPLICATES ---\n",
    "print(\"Original Train shape:\", train_df.shape)\n",
    "train_df.drop_duplicates(inplace=True)\n",
    "print(\"Train shape after removing duplicates:\", train_df.shape)\n",
    "# --- END ADDED CODE ---\n",
    "\n",
    "print(\"\\nOriginal Test shape:\", test_df.shape)"
   ]
  },
  {
   "cell_type": "code",
   "execution_count": 5,
   "id": "ee99b7f6-6a44-493a-8806-1aeb916d3d23",
   "metadata": {},
   "outputs": [],
   "source": [
    "for df in [train_df, test_df]:\n",
    "    df[\"service\"] = df[\"service\"].astype(str).replace(\"-\", \"unknown\")\n",
    "    df[\"service\"] = df[\"service\"].astype(\"category\")\n"
   ]
  },
  {
   "cell_type": "code",
   "execution_count": 6,
   "id": "0e86ad80-94db-43e3-a346-8c3977b97d51",
   "metadata": {},
   "outputs": [
    {
     "name": "stdout",
     "output_type": "stream",
     "text": [
      "Safe categorical encoding done with OrdinalEncoder.\n"
     ]
    }
   ],
   "source": [
    "from sklearn.preprocessing import OrdinalEncoder\n",
    "\n",
    "cat_cols = [\"proto\", \"service\", \"state\", \"attack_cat\"]\n",
    "\n",
    "encoder = OrdinalEncoder(handle_unknown=\"use_encoded_value\", unknown_value=-1)\n",
    "\n",
    "train_df[cat_cols] = encoder.fit_transform(train_df[cat_cols].astype(str))\n",
    "test_df[cat_cols]  = encoder.transform(test_df[cat_cols].astype(str))\n",
    "\n",
    "print(\"Safe categorical encoding done with OrdinalEncoder.\")\n"
   ]
  },
  {
   "cell_type": "code",
   "execution_count": 7,
   "id": "b6b3f58f-daa2-4073-b7c1-95162ab11fac",
   "metadata": {},
   "outputs": [
    {
     "name": "stdout",
     "output_type": "stream",
     "text": [
      "✅ Cleaned and encoded datasets saved!\n"
     ]
    }
   ],
   "source": [
    "# ✅ Save engineered datasets for experimentation\n",
    "train_df.to_parquet(\"UNSW_NB15_train_clean.parquet\", index=False)\n",
    "test_df.to_parquet(\"UNSW_NB15_test_clean.parquet\", index=False)\n",
    "\n",
    "print(\"✅ Cleaned and encoded datasets saved!\")\n"
   ]
  },
  {
   "cell_type": "code",
   "execution_count": null,
   "id": "3d7cc519-ec4b-478c-8c7e-bf0fa94d00d6",
   "metadata": {},
   "outputs": [],
   "source": []
  }
 ],
 "metadata": {
  "kernelspec": {
   "display_name": "Python 3 (ipykernel)",
   "language": "python",
   "name": "python3"
  },
  "language_info": {
   "codemirror_mode": {
    "name": "ipython",
    "version": 3
   },
   "file_extension": ".py",
   "mimetype": "text/x-python",
   "name": "python",
   "nbconvert_exporter": "python",
   "pygments_lexer": "ipython3",
   "version": "3.11.13"
  }
 },
 "nbformat": 4,
 "nbformat_minor": 5
}
